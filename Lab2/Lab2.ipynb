{
 "cells": [
  {
   "metadata": {},
   "cell_type": "markdown",
   "source": [
    "### Лабораторна робота No2\n",
    "### Наука про дані: підготовчий етап"
   ],
   "id": "a910bd751399657"
  },
  {
   "metadata": {
    "ExecuteTime": {
     "end_time": "2024-11-17T13:14:58.372104Z",
     "start_time": "2024-11-17T13:14:57.461821Z"
    }
   },
   "cell_type": "code",
   "source": [
    "import pandas as pd\n",
    "import urllib.request\n",
    "import os\n",
    "from datetime import datetime\n",
    "from spyre import server"
   ],
   "id": "879a63a7120529ea",
   "outputs": [
    {
     "name": "stderr",
     "output_type": "stream",
     "text": [
      "WARNING:root:Warning: unable to set defaultencoding to utf-8\n"
     ]
    }
   ],
   "execution_count": 1
  },
  {
   "metadata": {},
   "cell_type": "markdown",
   "source": "### Завантаження файлів",
   "id": "3de58a7f75ebde71"
  },
  {
   "metadata": {
    "ExecuteTime": {
     "end_time": "2024-11-17T13:14:58.425648Z",
     "start_time": "2024-11-17T13:14:58.410669Z"
    }
   },
   "cell_type": "code",
   "source": [
    "# Функція для перевірки, чи файл вже існує\n",
    "def file_exists(province_id, save_dir):\n",
    "    # Шукаємо файли, які містять індекс області у назві\n",
    "    for filename in os.listdir(save_dir):\n",
    "        if f\"vhi_province_{province_id}_\" in filename:\n",
    "            return os.path.join(save_dir, filename)\n",
    "    return None\n",
    "\n",
    "# Функція для завантаження файлів \n",
    "def download_data(id, save_dir=\"vhi_data\"):\n",
    "\n",
    "    for i in range(1, id + 1):\n",
    "        url = f'https://www.star.nesdis.noaa.gov/smcd/emb/vci/VH/get_TS_admin.php?country=UKR&provinceID={i}&year1=1981&year2=2024&type=Mean'\n",
    "        \n",
    "        # Формування імені файлу з датою і часом\n",
    "        timestamp = datetime.now().strftime(\"%Y%m%d_%H%M%S\")\n",
    "        filename = f'vhi_province_{i}_{timestamp}.csv'\n",
    "        filepath = os.path.join(save_dir, filename)\n",
    "\n",
    "        # Перевіряємо, чи файл для даної області вже існує\n",
    "        existing_file = file_exists(i, save_dir)\n",
    "        if existing_file:\n",
    "            print(f\"file {i} is exist\")\n",
    "            continue  # Пропускаємо завантаження, якщо файл існує\n",
    "        print(f\"File {i} is downloaded\")\n",
    "\n",
    "        # Завантажуємо файл і зберігаємо його\n",
    "        vhi_url = urllib.request.urlopen(url)\n",
    "        with open(filepath, 'wb') as out:\n",
    "            out.write(vhi_url.read())\n",
    "            \n",
    "    print(\"Data is downloaded\")\n",
    "\n",
    "download_data(27, save_dir=\"vhi_data\")\n"
   ],
   "id": "9e1d7da19ab20890",
   "outputs": [
    {
     "name": "stdout",
     "output_type": "stream",
     "text": [
      "file 1 is exist\n",
      "file 2 is exist\n",
      "file 3 is exist\n",
      "file 4 is exist\n",
      "file 5 is exist\n",
      "file 6 is exist\n",
      "file 7 is exist\n",
      "file 8 is exist\n",
      "file 9 is exist\n",
      "file 10 is exist\n",
      "file 11 is exist\n",
      "file 12 is exist\n",
      "file 13 is exist\n",
      "file 14 is exist\n",
      "file 15 is exist\n",
      "file 16 is exist\n",
      "file 17 is exist\n",
      "file 18 is exist\n",
      "file 19 is exist\n",
      "file 20 is exist\n",
      "file 21 is exist\n",
      "file 22 is exist\n",
      "file 23 is exist\n",
      "file 24 is exist\n",
      "file 25 is exist\n",
      "file 26 is exist\n",
      "file 27 is exist\n",
      "Data is downloaded\n"
     ]
    }
   ],
   "execution_count": 2
  },
  {
   "metadata": {},
   "cell_type": "markdown",
   "source": "### Об'єднання файлів в один DataFrame",
   "id": "8d2934c6a6c2979c"
  },
  {
   "metadata": {
    "collapsed": true,
    "ExecuteTime": {
     "end_time": "2024-11-17T13:14:58.910833Z",
     "start_time": "2024-11-17T13:14:58.444357Z"
    }
   },
   "cell_type": "code",
   "source": [
    "# Функція для видалення конкретних HTML-тегів\n",
    "def clean_html_tags(text):\n",
    "    clean_text = text.replace('<tt>', '').replace('</tt>', '').replace('<pre>', '').replace('</pre>', '')\n",
    "    return clean_text\n",
    "\n",
    "def load_files_to_dataframe(directory_path):\n",
    "    # Створюємо порожній список для збереження DataFrame з кожного файлу\n",
    "    df_list = []\n",
    "    i = 0\n",
    "    \n",
    "    # Проходимо по всіх файлах у директорії\n",
    "    for filename in os.listdir(directory_path):\n",
    "        if filename.endswith(\".csv\"):  # Обробляємо тільки файли CSV\n",
    "            file_path = os.path.join(directory_path, filename)\n",
    "            i += 1\n",
    "            headers = ['Year', 'Week', 'SMN', 'SMT', 'VCI', 'TCI', 'VHI', 'empty']\n",
    "            df = pd.read_csv(file_path, header=1, names=headers)\n",
    "            \n",
    "            # Очищуємо всі стовпці від HTML-тегів\n",
    "            for col in df.columns:\n",
    "                if df[col].dtype == 'object':\n",
    "                    df[col] = df[col].map(lambda x: clean_html_tags(str(x)))\n",
    "        \n",
    "            # Додаємо стовпчик з індексом регіона\n",
    "            df['area'] = i\n",
    "            \n",
    "            # Додаємо DataFrame до списку\n",
    "            df_list.append(df)\n",
    "    \n",
    "    # Об'єднуємо всі DataFrame в один\n",
    "    combined_df = pd.concat(df_list, ignore_index=True)\n",
    "    \n",
    "    # Змінюємо тип даних в Year\n",
    "    combined_df['Year'] = pd.to_numeric(combined_df['Year'], errors='coerce')\n",
    "    combined_df.dropna(subset=['Year'], inplace=True)\n",
    "    combined_df['Year'] = combined_df['Year'].astype(int)\n",
    "    \n",
    "    combined_df = combined_df.drop(columns=['empty'])\n",
    "    \n",
    "    return combined_df\n",
    "\n",
    "# Завантажуємо файли\n",
    "dataframe = load_files_to_dataframe('vhi_data')\n",
    "\n",
    "dataframe.head()\n",
    "missing_values_count = dataframe.isnull().sum()\n",
    "print(missing_values_count)"
   ],
   "id": "initial_id",
   "outputs": [
    {
     "name": "stdout",
     "output_type": "stream",
     "text": [
      "Year    0\n",
      "Week    0\n",
      "SMN     0\n",
      "SMT     0\n",
      "VCI     0\n",
      "TCI     0\n",
      "VHI     0\n",
      "area    0\n",
      "dtype: int64\n"
     ]
    }
   ],
   "execution_count": 3
  },
  {
   "metadata": {},
   "cell_type": "markdown",
   "source": "### Змінення індексів регіонів",
   "id": "bcabc456da41c3fd"
  },
  {
   "metadata": {
    "ExecuteTime": {
     "end_time": "2024-11-17T13:15:00.098668Z",
     "start_time": "2024-11-17T13:14:59.829902Z"
    }
   },
   "cell_type": "code",
   "source": [
    "def change_index(df):\n",
    "    # Створимо словник відповідностей\n",
    "    replacement_dict = {1: 22, 2: 24, 3: 23, 4: 25, 5: 3, 6: 4, 7: 8, 8: 19, 9: 20, 10: 21, 11: 9, 12: 12, 13: 10, 14: 11, 15: 12, 16: 13, 17: 14, 18: 15, 19: 16, 20: 20, 21: 17, 22: 18, 23: 6, 24: 1, 25: 2, 26: 7, 27: 5}\n",
    "    \n",
    "    # Використовуємо заміну \n",
    "    df[\"area\"] = df[\"area\"].replace(replacement_dict)\n",
    "    \n",
    "    return df\n",
    "\n",
    "\n",
    "dataframe = change_index(dataframe)\n",
    "dataframe.to_csv('df.csv', index=False, encoding='utf-8')\n",
    "dataframe.head()"
   ],
   "id": "eacef1872a9c4f8b",
   "outputs": [
    {
     "data": {
      "text/plain": [
       "   Year  Week    SMN     SMT    VCI    TCI    VHI  area\n",
       "0  1982   1.0  0.059  258.24  51.11  48.78  49.95    22\n",
       "1  1982   2.0  0.063  261.53  55.89  38.20  47.04    22\n",
       "2  1982   3.0  0.063  263.45  57.30  32.69  44.99    22\n",
       "3  1982   4.0  0.061  265.10  53.96  28.62  41.29    22\n",
       "4  1982   5.0  0.058  266.42  46.87  28.57  37.72    22"
      ],
      "text/html": [
       "<div>\n",
       "<style scoped>\n",
       "    .dataframe tbody tr th:only-of-type {\n",
       "        vertical-align: middle;\n",
       "    }\n",
       "\n",
       "    .dataframe tbody tr th {\n",
       "        vertical-align: top;\n",
       "    }\n",
       "\n",
       "    .dataframe thead th {\n",
       "        text-align: right;\n",
       "    }\n",
       "</style>\n",
       "<table border=\"1\" class=\"dataframe\">\n",
       "  <thead>\n",
       "    <tr style=\"text-align: right;\">\n",
       "      <th></th>\n",
       "      <th>Year</th>\n",
       "      <th>Week</th>\n",
       "      <th>SMN</th>\n",
       "      <th>SMT</th>\n",
       "      <th>VCI</th>\n",
       "      <th>TCI</th>\n",
       "      <th>VHI</th>\n",
       "      <th>area</th>\n",
       "    </tr>\n",
       "  </thead>\n",
       "  <tbody>\n",
       "    <tr>\n",
       "      <th>0</th>\n",
       "      <td>1982</td>\n",
       "      <td>1.0</td>\n",
       "      <td>0.059</td>\n",
       "      <td>258.24</td>\n",
       "      <td>51.11</td>\n",
       "      <td>48.78</td>\n",
       "      <td>49.95</td>\n",
       "      <td>22</td>\n",
       "    </tr>\n",
       "    <tr>\n",
       "      <th>1</th>\n",
       "      <td>1982</td>\n",
       "      <td>2.0</td>\n",
       "      <td>0.063</td>\n",
       "      <td>261.53</td>\n",
       "      <td>55.89</td>\n",
       "      <td>38.20</td>\n",
       "      <td>47.04</td>\n",
       "      <td>22</td>\n",
       "    </tr>\n",
       "    <tr>\n",
       "      <th>2</th>\n",
       "      <td>1982</td>\n",
       "      <td>3.0</td>\n",
       "      <td>0.063</td>\n",
       "      <td>263.45</td>\n",
       "      <td>57.30</td>\n",
       "      <td>32.69</td>\n",
       "      <td>44.99</td>\n",
       "      <td>22</td>\n",
       "    </tr>\n",
       "    <tr>\n",
       "      <th>3</th>\n",
       "      <td>1982</td>\n",
       "      <td>4.0</td>\n",
       "      <td>0.061</td>\n",
       "      <td>265.10</td>\n",
       "      <td>53.96</td>\n",
       "      <td>28.62</td>\n",
       "      <td>41.29</td>\n",
       "      <td>22</td>\n",
       "    </tr>\n",
       "    <tr>\n",
       "      <th>4</th>\n",
       "      <td>1982</td>\n",
       "      <td>5.0</td>\n",
       "      <td>0.058</td>\n",
       "      <td>266.42</td>\n",
       "      <td>46.87</td>\n",
       "      <td>28.57</td>\n",
       "      <td>37.72</td>\n",
       "      <td>22</td>\n",
       "    </tr>\n",
       "  </tbody>\n",
       "</table>\n",
       "</div>"
      ]
     },
     "execution_count": 4,
     "metadata": {},
     "output_type": "execute_result"
    }
   ],
   "execution_count": 4
  },
  {
   "metadata": {},
   "cell_type": "markdown",
   "source": "### Ряд VHI для області за вказаний рік",
   "id": "8bcf17da0d78012e"
  },
  {
   "metadata": {
    "ExecuteTime": {
     "end_time": "2024-11-17T13:15:00.121602Z",
     "start_time": "2024-11-17T13:15:00.112013Z"
    }
   },
   "cell_type": "code",
   "source": [
    "def get_vhi_for_area(dataframe, area, year):\n",
    "    result = dataframe[(dataframe['area'] == area) & (dataframe['Year'] == year)]['VHI']\n",
    "    return result\n",
    "\n",
    "\n",
    "get_vhi_for_area(dataframe, area=22, year=1982)"
   ],
   "id": "35676ca85113b32c",
   "outputs": [
    {
     "data": {
      "text/plain": [
       "0     49.95\n",
       "1     47.04\n",
       "2     44.99\n",
       "3     41.29\n",
       "4     37.72\n",
       "5     34.91\n",
       "6     33.14\n",
       "7     32.72\n",
       "8     32.77\n",
       "9     32.23\n",
       "10    30.38\n",
       "11    31.12\n",
       "12    31.65\n",
       "13    32.61\n",
       "14    35.49\n",
       "15    39.19\n",
       "16    41.14\n",
       "17    39.50\n",
       "18    37.07\n",
       "19    37.88\n",
       "20    40.99\n",
       "21    43.36\n",
       "22    45.31\n",
       "23    46.30\n",
       "24    48.85\n",
       "25    50.88\n",
       "26    51.83\n",
       "27    51.68\n",
       "28    51.61\n",
       "29    49.93\n",
       "30    46.00\n",
       "31    43.56\n",
       "32    41.20\n",
       "33    38.42\n",
       "34    39.22\n",
       "35    39.13\n",
       "36    37.25\n",
       "37    36.38\n",
       "38    35.99\n",
       "39    34.87\n",
       "40    29.96\n",
       "41    28.16\n",
       "42    27.39\n",
       "43    25.05\n",
       "44    23.80\n",
       "45    22.82\n",
       "46    24.41\n",
       "47    27.34\n",
       "48    28.53\n",
       "49    27.87\n",
       "50    29.83\n",
       "51    31.99\n",
       "Name: VHI, dtype: float64"
      ]
     },
     "execution_count": 5,
     "metadata": {},
     "output_type": "execute_result"
    }
   ],
   "execution_count": 5
  },
  {
   "metadata": {},
   "cell_type": "markdown",
   "source": "### Пошук екстремумів (min та max) для вказаних областей та років, середнього, медіани",
   "id": "183cd4dcff9b7471"
  },
  {
   "metadata": {
    "ExecuteTime": {
     "end_time": "2024-11-17T13:15:00.145053Z",
     "start_time": "2024-11-17T13:15:00.134657Z"
    }
   },
   "cell_type": "code",
   "source": [
    "def get_extremes_mean_median(dataframe, areas, years):\n",
    "    # Перевіряємо чи areas та years є списками\n",
    "    if not isinstance(areas, list):\n",
    "        areas = [areas]\n",
    "    if not isinstance(years, list):\n",
    "        years = [years]\n",
    "    \n",
    "    # Фільтрація даних для вказаних областей та років\n",
    "    filtered_df = dataframe[dataframe['area'].isin(areas) & dataframe['Year'].isin(years)]\n",
    "    \n",
    "    if filtered_df.empty:\n",
    "        print(\"Немає даних для зазначених областей та років.\")\n",
    "        return None\n",
    "\n",
    "    # Обчислення екстремумів, середнього значення та медіани\n",
    "    min_vhi = filtered_df['VHI'].min()\n",
    "    max_vhi = filtered_df['VHI'].max()\n",
    "    mean_vhi = filtered_df['VHI'].mean()\n",
    "    median_vhi = filtered_df['VHI'].median()\n",
    "\n",
    "    results = {\n",
    "        'min': min_vhi,\n",
    "        'max': max_vhi,\n",
    "        'mean': mean_vhi,\n",
    "        'median': median_vhi,\n",
    "    }\n",
    "\n",
    "    return results\n",
    "\n",
    "\n",
    "extremes = get_extremes_mean_median(dataframe, [22,18], [1982])\n",
    "if extremes:\n",
    "    print(\"Results:\")\n",
    "    print(f\"min: {extremes['min']}\")\n",
    "    print(f\"max: {extremes['max']}\")\n",
    "    print(f\"average: {extremes['mean']}\")\n",
    "    print(f\"median: {extremes['median']}\")"
   ],
   "id": "8e092a799c788a28",
   "outputs": [
    {
     "name": "stdout",
     "output_type": "stream",
     "text": [
      "Results:\n",
      "min: 22.82\n",
      "max: 64.88\n",
      "average: 41.03798076923077\n",
      "median: 39.055\n"
     ]
    }
   ],
   "execution_count": 6
  },
  {
   "metadata": {},
   "cell_type": "markdown",
   "source": "### Ряд VHI за вказаний діапазон років для вказаних областей",
   "id": "42986d251d8b85a5"
  },
  {
   "metadata": {
    "ExecuteTime": {
     "end_time": "2024-11-17T13:15:00.199751Z",
     "start_time": "2024-11-17T13:15:00.185416Z"
    }
   },
   "cell_type": "code",
   "source": [
    "def get_vhi_for_area_range(dataframe, areas, start_year, end_year):\n",
    "    # Переконайтеся, що areas є списком\n",
    "    if not isinstance(areas, list):\n",
    "        areas = [areas]\n",
    "    \n",
    "    # Фільтрація даних для вказаних областей та діапазону років\n",
    "    filtered_df = dataframe[(dataframe['area'].isin(areas)) & (dataframe['Year'].between(start_year, end_year))]\n",
    "    \n",
    "    if filtered_df.empty:\n",
    "        print(\"Немає даних для зазначених областей та діапазону років\")\n",
    "        return None\n",
    "\n",
    "    return filtered_df[['Year', 'area', 'VHI']]\n",
    "\n",
    "\n",
    "get_vhi_for_area_range(dataframe, 22, 1982, 1986)"
   ],
   "id": "abfa8e4bf00764b5",
   "outputs": [
    {
     "data": {
      "text/plain": [
       "     Year  area    VHI\n",
       "0    1982    22  49.95\n",
       "1    1982    22  47.04\n",
       "2    1982    22  44.99\n",
       "3    1982    22  41.29\n",
       "4    1982    22  37.72\n",
       "..    ...   ...    ...\n",
       "255  1986    22  26.04\n",
       "256  1986    22  31.28\n",
       "257  1986    22  35.85\n",
       "258  1986    22  39.25\n",
       "259  1986    22  43.82\n",
       "\n",
       "[260 rows x 3 columns]"
      ],
      "text/html": [
       "<div>\n",
       "<style scoped>\n",
       "    .dataframe tbody tr th:only-of-type {\n",
       "        vertical-align: middle;\n",
       "    }\n",
       "\n",
       "    .dataframe tbody tr th {\n",
       "        vertical-align: top;\n",
       "    }\n",
       "\n",
       "    .dataframe thead th {\n",
       "        text-align: right;\n",
       "    }\n",
       "</style>\n",
       "<table border=\"1\" class=\"dataframe\">\n",
       "  <thead>\n",
       "    <tr style=\"text-align: right;\">\n",
       "      <th></th>\n",
       "      <th>Year</th>\n",
       "      <th>area</th>\n",
       "      <th>VHI</th>\n",
       "    </tr>\n",
       "  </thead>\n",
       "  <tbody>\n",
       "    <tr>\n",
       "      <th>0</th>\n",
       "      <td>1982</td>\n",
       "      <td>22</td>\n",
       "      <td>49.95</td>\n",
       "    </tr>\n",
       "    <tr>\n",
       "      <th>1</th>\n",
       "      <td>1982</td>\n",
       "      <td>22</td>\n",
       "      <td>47.04</td>\n",
       "    </tr>\n",
       "    <tr>\n",
       "      <th>2</th>\n",
       "      <td>1982</td>\n",
       "      <td>22</td>\n",
       "      <td>44.99</td>\n",
       "    </tr>\n",
       "    <tr>\n",
       "      <th>3</th>\n",
       "      <td>1982</td>\n",
       "      <td>22</td>\n",
       "      <td>41.29</td>\n",
       "    </tr>\n",
       "    <tr>\n",
       "      <th>4</th>\n",
       "      <td>1982</td>\n",
       "      <td>22</td>\n",
       "      <td>37.72</td>\n",
       "    </tr>\n",
       "    <tr>\n",
       "      <th>...</th>\n",
       "      <td>...</td>\n",
       "      <td>...</td>\n",
       "      <td>...</td>\n",
       "    </tr>\n",
       "    <tr>\n",
       "      <th>255</th>\n",
       "      <td>1986</td>\n",
       "      <td>22</td>\n",
       "      <td>26.04</td>\n",
       "    </tr>\n",
       "    <tr>\n",
       "      <th>256</th>\n",
       "      <td>1986</td>\n",
       "      <td>22</td>\n",
       "      <td>31.28</td>\n",
       "    </tr>\n",
       "    <tr>\n",
       "      <th>257</th>\n",
       "      <td>1986</td>\n",
       "      <td>22</td>\n",
       "      <td>35.85</td>\n",
       "    </tr>\n",
       "    <tr>\n",
       "      <th>258</th>\n",
       "      <td>1986</td>\n",
       "      <td>22</td>\n",
       "      <td>39.25</td>\n",
       "    </tr>\n",
       "    <tr>\n",
       "      <th>259</th>\n",
       "      <td>1986</td>\n",
       "      <td>22</td>\n",
       "      <td>43.82</td>\n",
       "    </tr>\n",
       "  </tbody>\n",
       "</table>\n",
       "<p>260 rows × 3 columns</p>\n",
       "</div>"
      ]
     },
     "execution_count": 7,
     "metadata": {},
     "output_type": "execute_result"
    }
   ],
   "execution_count": 7
  },
  {
   "metadata": {},
   "cell_type": "markdown",
   "source": "### Роки, назви областей з екстремальними посухами та значення VHI",
   "id": "bb6fa42c4efb2856"
  },
  {
   "metadata": {
    "ExecuteTime": {
     "end_time": "2024-11-17T13:15:00.275583Z",
     "start_time": "2024-11-17T13:15:00.259048Z"
    }
   },
   "cell_type": "code",
   "source": [
    "def detect_droughts(dataframe, perсent):\n",
    "    # Фільтруємо дані, щоб отримати записи з VHI <= 15\n",
    "    df_drought = dataframe[(dataframe.VHI <= 15) & (dataframe.VHI != -1)]\n",
    "\n",
    "    # Обчислюємо кількість областей, які підпадають під екстремальні посухи за роками\n",
    "    drought_counts = df_drought.groupby('Year')['area'].nunique()\n",
    "\n",
    "    # Знаходимо роки, де кількість областей з посухами перевищує вказаний відсоток \n",
    "    significant_drought_years = drought_counts[drought_counts > (27 * perсent / 100)]\n",
    "\n",
    "    # Отримаємо дані для повернення\n",
    "    results = []\n",
    "\n",
    "    for year in significant_drought_years.index:\n",
    "        drought_data = df_drought[df_drought['Year'] == year]\n",
    "        for index, row in drought_data.iterrows():\n",
    "            results.append({'Year': year, 'Area': row['area'], 'VHI': row['VHI']})\n",
    "\n",
    "    # Створюємо DataFrame з результатами\n",
    "    return significant_drought_years\n",
    "\n",
    "\n",
    "detect_droughts(dataframe, 10)"
   ],
   "id": "a942b67ef2e8959d",
   "outputs": [
    {
     "data": {
      "text/plain": [
       "Year\n",
       "2000    6\n",
       "2007    5\n",
       "Name: area, dtype: int64"
      ]
     },
     "execution_count": 8,
     "metadata": {},
     "output_type": "execute_result"
    }
   ],
   "execution_count": 8
  }
 ],
 "metadata": {
  "kernelspec": {
   "display_name": "Python 3",
   "language": "python",
   "name": "python3"
  },
  "language_info": {
   "codemirror_mode": {
    "name": "ipython",
    "version": 2
   },
   "file_extension": ".py",
   "mimetype": "text/x-python",
   "name": "python",
   "nbconvert_exporter": "python",
   "pygments_lexer": "ipython2",
   "version": "2.7.6"
  }
 },
 "nbformat": 4,
 "nbformat_minor": 5
}
