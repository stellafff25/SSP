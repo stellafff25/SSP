{
 "cells": [
  {
   "metadata": {},
   "cell_type": "markdown",
   "source": "## Завдання 1 за допомогою Plotly",
   "id": "b78d317f6bcc425"
  },
  {
   "metadata": {
    "ExecuteTime": {
     "end_time": "2024-12-09T20:29:15.669735Z",
     "start_time": "2024-12-09T20:29:15.666749Z"
    }
   },
   "cell_type": "code",
   "source": [
    "import dash\n",
    "from dash import dcc, html\n",
    "from dash.dependencies import Input, Output, State\n",
    "import numpy as np\n",
    "import plotly.graph_objects as go"
   ],
   "id": "b56e3ef57d7b5092",
   "outputs": [],
   "execution_count": 7
  },
  {
   "metadata": {
    "collapsed": true,
    "ExecuteTime": {
     "end_time": "2024-12-09T20:29:16.136198Z",
     "start_time": "2024-12-09T20:29:15.693459Z"
    }
   },
   "cell_type": "code",
   "source": [
    "# Ініціалізація додатку\n",
    "app = dash.Dash(__name__)\n",
    "\n",
    "# Функція генерації гармоніки\n",
    "def harmonic_with_noise(amplitude, frequency, phase, noise_mean, noise_covariance, show_noise, samples=1000):\n",
    "    x = np.linspace(0, 2 * np.pi, samples)\n",
    "    harmonic = amplitude * np.sin(frequency * x + phase)\n",
    "    noise = np.random.normal(noise_mean, noise_covariance, samples)\n",
    "    return x, harmonic + noise if show_noise else harmonic\n",
    "\n",
    "# Початкові параметри\n",
    "initial_params = {\n",
    "    \"amplitude\": 1.0,\n",
    "    \"frequency\": 1.0,\n",
    "    \"phase\": 0.0,\n",
    "    \"noise_mean\": 0.0,\n",
    "    \"noise_covariance\": 0.1,\n",
    "    \"show_noise\": True\n",
    "}\n",
    "\n",
    "# Layout\n",
    "app.layout = html.Div(\n",
    "    style={'backgroundColor': '#000000', 'color': 'white', 'padding': '20px'},\n",
    "    children=[\n",
    "        html.H1(\"Інтерактивна побудова гармоніки з шумом\", style={'color': 'white'}),\n",
    "        dcc.Graph(id='harmonic-plot'),\n",
    "        html.Label(\"Amplitude:\", style={'color': 'white'}),\n",
    "        dcc.Slider(id='amplitude-slider', min=0.1, max=5.0, step=0.1, value=initial_params[\"amplitude\"]),\n",
    "        html.Label(\"Frequency:\", style={'color': 'white'}),\n",
    "        dcc.Slider(id='frequency-slider', min=0.1, max=5.0, step=0.1, value=initial_params[\"frequency\"]),\n",
    "        html.Label(\"Phase:\", style={'color': 'white'}),\n",
    "        dcc.Slider(id='phase-slider', min=0, max=2 * np.pi, step=0.1, value=initial_params[\"phase\"]),\n",
    "        html.Label(\"Noise Mean:\", style={'color': 'white'}),\n",
    "        dcc.Slider(id='noise-mean-slider', min=-1, max=1, step=0.1, value=initial_params[\"noise_mean\"]),\n",
    "        html.Label(\"Noise Covariance:\", style={'color': 'white'}),\n",
    "        dcc.Slider(id='noise-covariance-slider', min=0.01, max=1, step=0.01, value=initial_params[\"noise_covariance\"]),\n",
    "        html.Label(\"Відображати шум:\", style={'color': 'white'}),\n",
    "        dcc.Checklist(\n",
    "            id='show-noise-checkbox', \n",
    "            options=[{'label': 'Так', 'value': 'show_noise', 'style': {'color': 'white'}}],\n",
    "            value=['show_noise']\n",
    "        ),\n",
    "        html.Button(\"Reset\", id='reset-button', style={'color': 'white', 'backgroundColor': '#333333'}),\n",
    "        html.Div(id='hidden-div', style={'display': 'none'})\n",
    "    ]\n",
    ")\n",
    "\n",
    "# Callback для оновлення графіку\n",
    "@app.callback(\n",
    "    Output('harmonic-plot', 'figure'),\n",
    "    [\n",
    "        Input('amplitude-slider', 'value'),\n",
    "        Input('frequency-slider', 'value'),\n",
    "        Input('phase-slider', 'value'),\n",
    "        Input('noise-mean-slider', 'value'),\n",
    "        Input('noise-covariance-slider', 'value'),\n",
    "        Input('show-noise-checkbox', 'value'),\n",
    "    ]\n",
    ")\n",
    "def update_plot(amplitude, frequency, phase, noise_mean, noise_covariance, show_noise):\n",
    "    show_noise_flag = 'show_noise' in show_noise\n",
    "    x, y = harmonic_with_noise(amplitude, frequency, phase, noise_mean, noise_covariance, show_noise_flag)\n",
    "    fig = go.Figure()\n",
    "    fig.add_trace(go.Scatter(x=x, y=y, mode='lines', name='Гармоніка'))\n",
    "    fig.update_layout(\n",
    "        title=\"Гармоніка з шумом\", \n",
    "        xaxis_title=\"Час\", \n",
    "        yaxis_title=\"Амплітуда\",\n",
    "        paper_bgcolor=\"#000000\",\n",
    "        plot_bgcolor=\"#000000\",\n",
    "        font=dict(color=\"white\")\n",
    "    )\n",
    "    return fig\n",
    "\n",
    "# Callback для скидання параметрів\n",
    "@app.callback(\n",
    "    [Output('amplitude-slider', 'value'),\n",
    "     Output('frequency-slider', 'value'),\n",
    "     Output('phase-slider', 'value'),\n",
    "     Output('noise-mean-slider', 'value'),\n",
    "     Output('noise-covariance-slider', 'value'),\n",
    "     Output('show-noise-checkbox', 'value')],\n",
    "    [Input('reset-button', 'n_clicks')]\n",
    ")\n",
    "def reset_params(n_clicks):\n",
    "    if n_clicks:\n",
    "        return (initial_params[\"amplitude\"], initial_params[\"frequency\"], initial_params[\"phase\"],\n",
    "                initial_params[\"noise_mean\"], initial_params[\"noise_covariance\"], ['show_noise'])\n",
    "    return dash.no_update\n",
    "\n",
    "if __name__ == '__main__':\n",
    "    app.run_server(debug=True)"
   ],
   "id": "initial_id",
   "outputs": [
    {
     "data": {
      "text/plain": [
       "<IPython.lib.display.IFrame at 0x28dffab7590>"
      ],
      "text/html": [
       "\n",
       "        <iframe\n",
       "            width=\"100%\"\n",
       "            height=\"650\"\n",
       "            src=\"http://127.0.0.1:8050/\"\n",
       "            frameborder=\"0\"\n",
       "            allowfullscreen\n",
       "            \n",
       "        ></iframe>\n",
       "        "
      ]
     },
     "metadata": {},
     "output_type": "display_data"
    }
   ],
   "execution_count": 8
  },
  {
   "metadata": {
    "ExecuteTime": {
     "end_time": "2024-12-09T20:29:16.151693Z",
     "start_time": "2024-12-09T20:29:16.147535Z"
    }
   },
   "cell_type": "code",
   "source": "",
   "id": "e549e68315db1454",
   "outputs": [],
   "execution_count": null
  }
 ],
 "metadata": {
  "kernelspec": {
   "display_name": "Python 3",
   "language": "python",
   "name": "python3"
  },
  "language_info": {
   "codemirror_mode": {
    "name": "ipython",
    "version": 2
   },
   "file_extension": ".py",
   "mimetype": "text/x-python",
   "name": "python",
   "nbconvert_exporter": "python",
   "pygments_lexer": "ipython2",
   "version": "2.7.6"
  }
 },
 "nbformat": 4,
 "nbformat_minor": 5
}
