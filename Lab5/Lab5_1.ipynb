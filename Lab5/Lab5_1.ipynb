{
 "cells": [
  {
   "metadata": {
    "ExecuteTime": {
     "end_time": "2024-12-11T10:13:31.591157Z",
     "start_time": "2024-12-11T10:13:31.586300Z"
    }
   },
   "cell_type": "code",
   "source": [
    "import numpy as np\n",
    "import matplotlib\n",
    "\n",
    "matplotlib.use('TkAgg')\n",
    "import matplotlib.pyplot as plt\n",
    "from matplotlib.widgets import Slider, Button, CheckButtons\n",
    "from scipy import signal"
   ],
   "id": "383eb74130a7c07",
   "outputs": [],
   "execution_count": 8
  },
  {
   "metadata": {},
   "cell_type": "markdown",
   "source": "### Функція для створення гармоніки з шумом",
   "id": "514067ddf368715d"
  },
  {
   "metadata": {
    "collapsed": true,
    "ExecuteTime": {
     "end_time": "2024-12-11T10:13:31.622237Z",
     "start_time": "2024-12-11T10:13:31.616397Z"
    }
   },
   "cell_type": "code",
   "source": [
    "def harmonic_with_noise(amplitude, frequency, phase, noise_mean, noise_covariance, show_noise):\n",
    "    t = np.linspace(0, 10, 500)\n",
    "    omega = 2 * np.pi * frequency  # Кутова частота\n",
    "    y = amplitude * np.sin(omega * t + phase)  # Гармонічна функція\n",
    "    noise = np.random.normal(noise_mean, np.sqrt(noise_covariance), t.shape)  # Шум\n",
    "    y_noisy = y + noise\n",
    "    \n",
    "    # Очищення попереднього графіку\n",
    "    ax.clear()\n",
    "    \n",
    "    # Візуалізація\n",
    "    if show_noise:\n",
    "        ax.plot(t, y_noisy, color='orange')\n",
    "    ax.plot(t, y, color='blue', linestyle=\"--\")\n",
    "    ax.set_xlabel('Time')\n",
    "    ax.set_ylabel('Amplitude')\n",
    "\n",
    "    # Фільтрація за допомогою низькочастотного фільтра\n",
    "    filtered_y = filter_signal(t, y_noisy, cutoff_frequency_slider.val)\n",
    "    ax.plot(t, filtered_y, color='red')\n",
    "\n",
    "    plt.draw()"
   ],
   "id": "initial_id",
   "outputs": [],
   "execution_count": 9
  },
  {
   "metadata": {},
   "cell_type": "markdown",
   "source": "### Функція для скидання параметрів",
   "id": "5b6274bf2bbb47a7"
  },
  {
   "metadata": {
    "ExecuteTime": {
     "end_time": "2024-12-11T10:13:31.683428Z",
     "start_time": "2024-12-11T10:13:31.678755Z"
    }
   },
   "cell_type": "code",
   "source": [
    "def reset_parameters(event):\n",
    "    amplitude_slider.reset()\n",
    "    frequency_slider.reset()\n",
    "    phase_slider.reset()\n",
    "    noise_mean_slider.reset()\n",
    "    noise_covariance_slider.reset()\n",
    "    show_noise_checkbox.set_active(0)\n"
   ],
   "id": "b32fc6325ae18a48",
   "outputs": [],
   "execution_count": 10
  },
  {
   "metadata": {},
   "cell_type": "markdown",
   "source": "### Оновлення графіку при зміні значень слайдерів",
   "id": "11081bd623ada89b"
  },
  {
   "metadata": {
    "ExecuteTime": {
     "end_time": "2024-12-11T10:13:31.729822Z",
     "start_time": "2024-12-11T10:13:31.725662Z"
    }
   },
   "cell_type": "code",
   "source": [
    "def update(val):\n",
    "    amplitude = amplitude_slider.val\n",
    "    frequency = frequency_slider.val\n",
    "    phase = phase_slider.val\n",
    "    noise_mean = noise_mean_slider.val\n",
    "    noise_covariance = noise_covariance_slider.val\n",
    "    show_noise = show_noise_checkbox.get_status()[0]\n",
    "    \n",
    "    harmonic_with_noise(amplitude, frequency, phase, noise_mean, noise_covariance, show_noise)"
   ],
   "id": "a747f7e64991e195",
   "outputs": [],
   "execution_count": 11
  },
  {
   "metadata": {},
   "cell_type": "markdown",
   "source": "### Функція для фільтрації сигналу",
   "id": "e7dbf27c48d2eff4"
  },
  {
   "metadata": {
    "ExecuteTime": {
     "end_time": "2024-12-11T10:13:31.776160Z",
     "start_time": "2024-12-11T10:13:31.772395Z"
    }
   },
   "cell_type": "code",
   "source": [
    "def filter_signal(t, y_noisy, cutoff_frequency):\n",
    "    # Налаштування фільтра\n",
    "    fs = 100  # Частота дискретизації\n",
    "    nyquist = 0.5 * fs  # Частота Найквіста\n",
    "    normal_cutoff = cutoff_frequency / nyquist  # Нормалізована частота зрізу\n",
    "    b, a = signal.butter(4, normal_cutoff, btype='low')  # 4-й порядок фільтра\n",
    "    y_filtered = signal.filtfilt(b, a, y_noisy)  # Фільтрація сигналу\n",
    "    return y_filtered"
   ],
   "id": "e5eaa3ece1db0cbf",
   "outputs": [],
   "execution_count": 12
  },
  {
   "metadata": {},
   "cell_type": "markdown",
   "source": "### Створення додатку",
   "id": "7744734cce51c78f"
  },
  {
   "metadata": {
    "jupyter": {
     "is_executing": true
    },
    "ExecuteTime": {
     "start_time": "2024-12-11T10:13:31.804062Z"
    }
   },
   "cell_type": "code",
   "source": [
    "fig, ax = plt.subplots(figsize=(8, 4))\n",
    "plt.subplots_adjust(left=0.1, bottom=0.5)\n",
    "\n",
    "# Створення слайдерів\n",
    "amplitude_slider = Slider(plt.axes([0.1, 0.29, 0.65, 0.03]), 'Amplitude', 0, 2, valinit=0.97, valstep=0.01)\n",
    "frequency_slider = Slider(plt.axes([0.1, 0.25, 0.65, 0.03]), 'Frequency', 0.1, 3, valinit=0.267, valstep=0.01)\n",
    "phase_slider = Slider(plt.axes([0.1, 0.21, 0.65, 0.03]), 'Phase', -np.pi, np.pi, valinit=0.000, valstep=0.01)\n",
    "noise_mean_slider = Slider(plt.axes([0.1, 0.17, 0.65, 0.03]), 'Noise Mean', -2.0, 2.0, valinit=0.108, valstep=0.01)\n",
    "noise_covariance_slider = Slider(plt.axes([0.1, 0.13, 0.65, 0.03]), 'Noise Covariance', 0.01, 2.0, valinit=0.101, valstep=0.01)\n",
    "cutoff_frequency_slider = Slider(plt.axes([0.1, 0.09, 0.65, 0.03]), 'Cutoff Frequency', 0.1, 10.0, valinit=5.0, valstep=0.01)\n",
    "\n",
    "# Кнопка reset\n",
    "reset_button = Button(plt.axes([0.1, 0.02, 0.1, 0.05]), 'Reset')\n",
    "reset_button.on_clicked(reset_parameters)\n",
    "\n",
    "# Чекбокс для відображення шуму\n",
    "show_noise_ax = plt.axes([0.75, 0.02, 0.15, 0.05])\n",
    "show_noise_checkbox = CheckButtons(show_noise_ax, ['Показати шум'], [True])\n",
    "\n",
    "# Підключення функції до слайдерів\n",
    "amplitude_slider.on_changed(update)\n",
    "frequency_slider.on_changed(update)\n",
    "phase_slider.on_changed(update)\n",
    "noise_mean_slider.on_changed(update)\n",
    "noise_covariance_slider.on_changed(update)\n",
    "cutoff_frequency_slider.on_changed(update)\n",
    "show_noise_checkbox.on_clicked(lambda label: update(None))\n",
    "\n",
    "# Початкове відображення графіка\n",
    "harmonic_with_noise(amplitude_slider.val, frequency_slider.val, phase_slider.val, \n",
    "                    noise_mean_slider.val, noise_covariance_slider.val, show_noise_checkbox.get_status()[0])\n",
    "\n",
    "plt.show()"
   ],
   "id": "44787015fb25e29a",
   "outputs": [],
   "execution_count": null
  }
 ],
 "metadata": {
  "kernelspec": {
   "display_name": "Python 3",
   "language": "python",
   "name": "python3"
  },
  "language_info": {
   "codemirror_mode": {
    "name": "ipython",
    "version": 2
   },
   "file_extension": ".py",
   "mimetype": "text/x-python",
   "name": "python",
   "nbconvert_exporter": "python",
   "pygments_lexer": "ipython2",
   "version": "2.7.6"
  }
 },
 "nbformat": 4,
 "nbformat_minor": 5
}
